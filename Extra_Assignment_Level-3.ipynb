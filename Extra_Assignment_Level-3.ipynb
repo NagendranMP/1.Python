{
 "cells": [
  {
   "cell_type": "code",
   "execution_count": 1,
   "id": "30ba30ce",
   "metadata": {},
   "outputs": [
    {
     "name": "stdout",
     "output_type": "stream",
     "text": [
      "Value:10\n",
      "Corect\n"
     ]
    }
   ],
   "source": [
    "i=int(input(\"Value:\"))\n",
    "if i==10:\n",
    "    print(\"Corect\")"
   ]
  },
  {
   "cell_type": "code",
   "execution_count": 2,
   "id": "bca4aa22",
   "metadata": {},
   "outputs": [
    {
     "name": "stdout",
     "output_type": "stream",
     "text": [
      "Enter the password:HOPE@123\n",
      "Your password is Corect\n"
     ]
    }
   ],
   "source": [
    "i=input(\"Enter the password:\")\n",
    "if i==\"HOPE@123\":\n",
    "    print(\"Your password is Corect\")"
   ]
  },
  {
   "cell_type": "code",
   "execution_count": 3,
   "id": "489a85a9",
   "metadata": {},
   "outputs": [
    {
     "name": "stdout",
     "output_type": "stream",
     "text": [
      "age:20\n",
      "Adult\n"
     ]
    }
   ],
   "source": [
    "i=int(input(\"age:\"))\n",
    "if i<18:\n",
    "    print(\"Children\")\n",
    "elif 18<i<35:\n",
    "    print(\"Adult\")\n",
    "elif 35<i<59:\n",
    "    print(\"Citizen\")\n",
    "else:\n",
    "    print(\"Senior Citizen\")"
   ]
  },
  {
   "cell_type": "code",
   "execution_count": 5,
   "id": "3bdf1376",
   "metadata": {},
   "outputs": [
    {
     "name": "stdout",
     "output_type": "stream",
     "text": [
      "Enter any number:1\n",
      "No is positive\n"
     ]
    }
   ],
   "source": [
    "i=int(input(\"Enter any number:\"))\n",
    "if i>0:\n",
    "    print(\"No is positive\")\n",
    "elif i<0:\n",
    "    print(\"No is negative\")\n",
    "else:\n",
    "    print(\"Nutral\")"
   ]
  },
  {
   "cell_type": "code",
   "execution_count": 6,
   "id": "f365faad",
   "metadata": {},
   "outputs": [
    {
     "name": "stdout",
     "output_type": "stream",
     "text": [
      "Enter any number:22\n",
      "No is not divisible by 5\n"
     ]
    }
   ],
   "source": [
    "i=int(input(\"Enter any number:\"))\n",
    "if i%5==0:\n",
    "    print(\"No is divisible by 5\")\n",
    "else:\n",
    "    print(\"No is not divisible by 5\")"
   ]
  },
  {
   "cell_type": "code",
   "execution_count": null,
   "id": "0c729d57",
   "metadata": {},
   "outputs": [],
   "source": []
  }
 ],
 "metadata": {
  "kernelspec": {
   "display_name": "Python 3 (ipykernel)",
   "language": "python",
   "name": "python3"
  },
  "language_info": {
   "codemirror_mode": {
    "name": "ipython",
    "version": 3
   },
   "file_extension": ".py",
   "mimetype": "text/x-python",
   "name": "python",
   "nbconvert_exporter": "python",
   "pygments_lexer": "ipython3",
   "version": "3.11.5"
  }
 },
 "nbformat": 4,
 "nbformat_minor": 5
}
