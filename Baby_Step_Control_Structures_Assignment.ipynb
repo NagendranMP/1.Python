{
 "cells": [
  {
   "cell_type": "code",
   "execution_count": 1,
   "id": "d8e4806d",
   "metadata": {},
   "outputs": [
    {
     "name": "stdout",
     "output_type": "stream",
     "text": [
      "Welcome to Assignment - 1\n"
     ]
    }
   ],
   "source": [
    "a=1\n",
    "print(\"Welcome to Assignment -\",a)"
   ]
  },
  {
   "cell_type": "code",
   "execution_count": 2,
   "id": "cac5f042",
   "metadata": {},
   "outputs": [
    {
     "name": "stdout",
     "output_type": "stream",
     "text": [
      "Num1= 10\n",
      "Num2= 30\n",
      "Add= 40\n"
     ]
    }
   ],
   "source": [
    "Num1=10\n",
    "Num2=30\n",
    "Add=Num1+Num2\n",
    "print(\"Num1=\",Num1)\n",
    "print(\"Num2=\",Num2)\n",
    "print(\"Add=\",Add)"
   ]
  },
  {
   "cell_type": "code",
   "execution_count": 4,
   "id": "2816e0c8",
   "metadata": {},
   "outputs": [
    {
     "name": "stdout",
     "output_type": "stream",
     "text": [
      "Enter the BMI Index :26\n",
      "Overweight\n"
     ]
    }
   ],
   "source": [
    "bmi=int(input(\"Enter the BMI Index :\"))\n",
    "if bmi<18.5:\n",
    "    print(\"Underweight\")\n",
    "elif 18.5<bmi<24.9:\n",
    "    print(\"Normalweight\")\n",
    "elif 25<bmi<29.9:\n",
    "    print(\"Overweight\")\n",
    "elif 30 <bmi<34.9:\n",
    "    print(\"Obesity Class1\")\n",
    "elif 35<bmi<39.9:\n",
    "    print(\"Obesity Class2\")\n",
    "else:\n",
    "    print(\"Obesity Class3\")"
   ]
  },
  {
   "cell_type": "code",
   "execution_count": null,
   "id": "60c6616a",
   "metadata": {},
   "outputs": [],
   "source": []
  }
 ],
 "metadata": {
  "kernelspec": {
   "display_name": "Python 3 (ipykernel)",
   "language": "python",
   "name": "python3"
  },
  "language_info": {
   "codemirror_mode": {
    "name": "ipython",
    "version": 3
   },
   "file_extension": ".py",
   "mimetype": "text/x-python",
   "name": "python",
   "nbconvert_exporter": "python",
   "pygments_lexer": "ipython3",
   "version": "3.11.5"
  }
 },
 "nbformat": 4,
 "nbformat_minor": 5
}
